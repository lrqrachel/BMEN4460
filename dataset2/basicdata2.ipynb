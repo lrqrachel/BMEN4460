{
 "cells": [
  {
   "cell_type": "code",
   "execution_count": 1,
   "metadata": {},
   "outputs": [],
   "source": [
    "from tqdm import tqdm\n",
    "import os\n",
    "import argparse\n",
    "import requests\n",
    "from zipfile import ZipFile\n",
    "import os"
   ]
  },
  {
   "cell_type": "markdown",
   "metadata": {},
   "source": [
    "Unzip dataset"
   ]
  },
  {
   "cell_type": "code",
   "execution_count": 2,
   "metadata": {},
   "outputs": [],
   "source": [
    "def clear_screen():\n",
    "    \"\"\"Clears the console screen irrespective of os used\"\"\"\n",
    "    import platform\n",
    "    if platform.system() == 'Windows':\n",
    "        os.system('cls')\n",
    "        return\n",
    "    os.system('clear')"
   ]
  },
  {
   "cell_type": "code",
   "execution_count": 3,
   "metadata": {},
   "outputs": [],
   "source": [
    "def unzip_file(source_name, destination):\n",
    "    \"\"\" Unizips a zip file and stores the contents in destination folder.\n",
    "    Parameters:\n",
    "        source_name(str): Full path of the source path\n",
    "        destination(str): Full folder path where contents of source_name will be stored.\n",
    "\n",
    "    Returns: None\n",
    "    \"\"\"\n",
    "    with ZipFile(source_name, 'r') as zipfile:\n",
    "        # extracting all the files\n",
    "        print(f'\\tExtracting files of {source_name}')\n",
    "        zipfile.extractall(destination)\n",
    "        print(f'\\tDone with {source_name}')\n",
    "        \n",
    "def make_folder(target_folder):\n",
    "    \"\"\"Creates folder if there is no folder in the specified path.\n",
    "    Parameters: \n",
    "        target_folder(str): path of the folder which needs to be created.\n",
    "\n",
    "    Returns: None\n",
    "    \"\"\"\n",
    "    if not (os.path.isdir(target_folder)):\n",
    "        print(f'Creating {target_folder} folder')\n",
    "        os.mkdir(target_folder)\n",
    "\n"
   ]
  },
  {
   "cell_type": "code",
   "execution_count": 4,
   "metadata": {},
   "outputs": [
    {
     "name": "stdout",
     "output_type": "stream",
     "text": [
      "\tExtracting files of dataset/stage1_train.zip\n",
      "\tDone with dataset/stage1_train.zip\n"
     ]
    }
   ],
   "source": [
    "def main():\n",
    "    # Clears the screen.\n",
    "    clear_screen()\n",
    "\n",
    "    # File names in a list.\n",
    "    file_names = [\n",
    "        f'stage1_train.zip' ]\n",
    "\n",
    "    # Destination folder to store files.\n",
    "    destination = os.path.join('dataset', 'stage1_train')\n",
    "    # Make the destination folder.\n",
    "    make_folder(os.path.join('dataset', 'stage1_train'))\n",
    "\n",
    "    for file in file_names:\n",
    "        path = os.path.join('dataset', file)\n",
    "        unzip_file(path, destination)\n",
    "\n",
    "if __name__ == \"__main__\":\n",
    "    main()"
   ]
  },
  {
   "cell_type": "code",
   "execution_count": null,
   "metadata": {},
   "outputs": [],
   "source": []
  },
  {
   "cell_type": "code",
   "execution_count": null,
   "metadata": {},
   "outputs": [],
   "source": []
  },
  {
   "cell_type": "code",
   "execution_count": null,
   "metadata": {},
   "outputs": [],
   "source": []
  },
  {
   "cell_type": "code",
   "execution_count": null,
   "metadata": {},
   "outputs": [],
   "source": []
  },
  {
   "cell_type": "code",
   "execution_count": 1,
   "metadata": {},
   "outputs": [
    {
     "name": "stderr",
     "output_type": "stream",
     "text": [
      "Using TensorFlow backend.\n"
     ]
    }
   ],
   "source": [
    "import os\n",
    "import sys\n",
    "import random\n",
    "import warnings\n",
    "\n",
    "import numpy as np\n",
    "import pandas as pd\n",
    "\n",
    "import matplotlib.pyplot as plt\n",
    "from tqdm import tqdm\n",
    "from itertools import chain\n",
    "from skimage.io import imread, imshow, imread_collection, concatenate_images\n",
    "from skimage.transform import resize\n",
    "from skimage.morphology import label\n",
    "\n",
    "from keras.models import Model, load_model\n",
    "from keras.layers import Input\n",
    "from keras.layers.core import Dropout, Lambda\n",
    "from keras.layers.convolutional import Conv2D, Conv2DTranspose\n",
    "from keras.layers.pooling import MaxPooling2D\n",
    "from keras.layers.merge import concatenate\n",
    "from keras.callbacks import EarlyStopping, ModelCheckpoint\n",
    "from keras import backend as K\n",
    "\n",
    "import tensorflow as tf"
   ]
  },
  {
   "cell_type": "markdown",
   "metadata": {},
   "source": [
    "Split the dataset to training+validation:test=9:1"
   ]
  },
  {
   "cell_type": "code",
   "execution_count": 6,
   "metadata": {},
   "outputs": [
    {
     "ename": "Error",
     "evalue": "Destination path './dataset/train/20e209f6ffa120a72712e1b4c1d3e24d1339227e2936abd4bbd49a636fada423' already exists",
     "output_type": "error",
     "traceback": [
      "\u001b[0;31m---------------------------------------------------------------------------\u001b[0m",
      "\u001b[0;31mError\u001b[0m                                     Traceback (most recent call last)",
      "\u001b[0;32m<ipython-input-6-d96eafe9a52c>\u001b[0m in \u001b[0;36m<module>\u001b[0;34m\u001b[0m\n\u001b[1;32m     16\u001b[0m     \u001b[0;32mif\u001b[0m \u001b[0mnum\u001b[0m \u001b[0;34m<\u001b[0m \u001b[0mnum_train\u001b[0m\u001b[0;34m*\u001b[0m\u001b[0;36m0.9\u001b[0m\u001b[0;34m:\u001b[0m\u001b[0;34m\u001b[0m\u001b[0;34m\u001b[0m\u001b[0m\n\u001b[1;32m     17\u001b[0m         \u001b[0;31m#print(str(fileName))\u001b[0m\u001b[0;34m\u001b[0m\u001b[0;34m\u001b[0m\u001b[0;34m\u001b[0m\u001b[0m\n\u001b[0;32m---> 18\u001b[0;31m         \u001b[0mshutil\u001b[0m\u001b[0;34m.\u001b[0m\u001b[0mmove\u001b[0m\u001b[0;34m(\u001b[0m\u001b[0mfileName\u001b[0m\u001b[0;34m,\u001b[0m\u001b[0mtrainDir\u001b[0m\u001b[0;34m)\u001b[0m\u001b[0;34m\u001b[0m\u001b[0;34m\u001b[0m\u001b[0m\n\u001b[0m\u001b[1;32m     19\u001b[0m     \u001b[0;32melse\u001b[0m\u001b[0;34m:\u001b[0m\u001b[0;34m\u001b[0m\u001b[0;34m\u001b[0m\u001b[0m\n\u001b[1;32m     20\u001b[0m         \u001b[0mshutil\u001b[0m\u001b[0;34m.\u001b[0m\u001b[0mmove\u001b[0m\u001b[0;34m(\u001b[0m\u001b[0mfileName\u001b[0m\u001b[0;34m,\u001b[0m\u001b[0mtestDir\u001b[0m\u001b[0;34m)\u001b[0m\u001b[0;34m\u001b[0m\u001b[0;34m\u001b[0m\u001b[0m\n",
      "\u001b[0;32m~/.conda/envs/BMEN4460/lib/python3.7/shutil.py\u001b[0m in \u001b[0;36mmove\u001b[0;34m(src, dst, copy_function)\u001b[0m\n\u001b[1;32m    562\u001b[0m         \u001b[0mreal_dst\u001b[0m \u001b[0;34m=\u001b[0m \u001b[0mos\u001b[0m\u001b[0;34m.\u001b[0m\u001b[0mpath\u001b[0m\u001b[0;34m.\u001b[0m\u001b[0mjoin\u001b[0m\u001b[0;34m(\u001b[0m\u001b[0mdst\u001b[0m\u001b[0;34m,\u001b[0m \u001b[0m_basename\u001b[0m\u001b[0;34m(\u001b[0m\u001b[0msrc\u001b[0m\u001b[0;34m)\u001b[0m\u001b[0;34m)\u001b[0m\u001b[0;34m\u001b[0m\u001b[0;34m\u001b[0m\u001b[0m\n\u001b[1;32m    563\u001b[0m         \u001b[0;32mif\u001b[0m \u001b[0mos\u001b[0m\u001b[0;34m.\u001b[0m\u001b[0mpath\u001b[0m\u001b[0;34m.\u001b[0m\u001b[0mexists\u001b[0m\u001b[0;34m(\u001b[0m\u001b[0mreal_dst\u001b[0m\u001b[0;34m)\u001b[0m\u001b[0;34m:\u001b[0m\u001b[0;34m\u001b[0m\u001b[0;34m\u001b[0m\u001b[0m\n\u001b[0;32m--> 564\u001b[0;31m             \u001b[0;32mraise\u001b[0m \u001b[0mError\u001b[0m\u001b[0;34m(\u001b[0m\u001b[0;34m\"Destination path '%s' already exists\"\u001b[0m \u001b[0;34m%\u001b[0m \u001b[0mreal_dst\u001b[0m\u001b[0;34m)\u001b[0m\u001b[0;34m\u001b[0m\u001b[0;34m\u001b[0m\u001b[0m\n\u001b[0m\u001b[1;32m    565\u001b[0m     \u001b[0;32mtry\u001b[0m\u001b[0;34m:\u001b[0m\u001b[0;34m\u001b[0m\u001b[0;34m\u001b[0m\u001b[0m\n\u001b[1;32m    566\u001b[0m         \u001b[0mos\u001b[0m\u001b[0;34m.\u001b[0m\u001b[0mrename\u001b[0m\u001b[0;34m(\u001b[0m\u001b[0msrc\u001b[0m\u001b[0;34m,\u001b[0m \u001b[0mreal_dst\u001b[0m\u001b[0;34m)\u001b[0m\u001b[0;34m\u001b[0m\u001b[0;34m\u001b[0m\u001b[0m\n",
      "\u001b[0;31mError\u001b[0m: Destination path './dataset/train/20e209f6ffa120a72712e1b4c1d3e24d1339227e2936abd4bbd49a636fada423' already exists"
     ]
    }
   ],
   "source": [
    "import os\n",
    "import random\n",
    "import shutil\n",
    "from shutil import copy2\n",
    "trainfiles = os.listdir('./dataset/stage1_train')\n",
    "num_train = len(trainfiles)\n",
    "#print( \"num_train: \" + str(num_train) )\n",
    "index_list = list(range(num_train))\n",
    "#print(index_list)\n",
    "random.shuffle(index_list)\n",
    "num = 0\n",
    "trainDir = './dataset/train'\n",
    "testDir = './dataset/test'\n",
    "for i in index_list:\n",
    "    fileName = os.path.join('./dataset/stage1_train', trainfiles[i])\n",
    "    if num < num_train*0.9:\n",
    "        #print(str(fileName))\n",
    "        shutil.move(fileName,trainDir)\n",
    "    else:\n",
    "        shutil.move(fileName,testDir)\n",
    "    num += 1\n"
   ]
  },
  {
   "cell_type": "code",
   "execution_count": 2,
   "metadata": {},
   "outputs": [],
   "source": [
    "IMG_WIDTH = 128\n",
    "IMG_HEIGHT = 128\n",
    "IMG_CHANNELS = 3\n",
    "TRAIN_PATH = './dataset/train/'\n",
    "TEST_PATH = './dataset/test/'\n",
    "\n",
    "warnings.filterwarnings('ignore', category=UserWarning, module='skimage')\n",
    "seed = 42\n",
    "random.seed = seed\n",
    "np.random.seed = seed"
   ]
  },
  {
   "cell_type": "code",
   "execution_count": 3,
   "metadata": {},
   "outputs": [],
   "source": [
    "\n",
    "# Get train and test IDs\n",
    "train_ids = next(os.walk(TRAIN_PATH))[1]\n",
    "test_ids = next(os.walk(TEST_PATH))[1]"
   ]
  },
  {
   "cell_type": "code",
   "execution_count": 4,
   "metadata": {},
   "outputs": [
    {
     "name": "stdout",
     "output_type": "stream",
     "text": [
      "Getting and resizing train images and masks ... \n"
     ]
    },
    {
     "name": "stderr",
     "output_type": "stream",
     "text": [
      "100%|██████████| 604/604 [05:00<00:00,  2.01it/s]\n"
     ]
    }
   ],
   "source": [
    "# Get and resize train images and masks\n",
    "X_train = np.zeros((len(train_ids), IMG_HEIGHT, IMG_WIDTH, IMG_CHANNELS), dtype=np.uint8)\n",
    "Y_train = np.zeros((len(train_ids), IMG_HEIGHT, IMG_WIDTH, 1), dtype=np.bool)\n",
    "print('Getting and resizing train images and masks ... ')\n",
    "sys.stdout.flush()\n",
    "for n, id_ in tqdm(enumerate(train_ids), total=len(train_ids)):\n",
    "    path = TRAIN_PATH + id_\n",
    "    img = imread(path + '/images/' + id_ + '.png')[:,:,:IMG_CHANNELS]\n",
    "    img = resize(img, (IMG_HEIGHT, IMG_WIDTH), mode='constant', preserve_range=True)\n",
    "    X_train[n] = img\n",
    "    mask = np.zeros((IMG_HEIGHT, IMG_WIDTH, 1), dtype=np.bool)\n",
    "    for mask_file in next(os.walk(path + '/masks/'))[2]:\n",
    "        mask_ = imread(path + '/masks/' + mask_file)\n",
    "        mask_ = np.expand_dims(resize(mask_, (IMG_HEIGHT, IMG_WIDTH), mode='constant', \n",
    "                                      preserve_range=True), axis=-1)\n",
    "        mask = np.maximum(mask, mask_)\n",
    "    Y_train[n] = mask"
   ]
  },
  {
   "cell_type": "code",
   "execution_count": 5,
   "metadata": {},
   "outputs": [
    {
     "data": {
      "image/png": "[encoded data removed]",
      "text/plain": [
       "<Figure size 432x288 with 1 Axes>"
      ]
     },
     "metadata": {
      "needs_background": "light"
     },
     "output_type": "display_data"
    },
    {
     "data": {
      "image/png": "[encoded data removed]",
      "text/plain": [
       "<Figure size 432x288 with 1 Axes>"
      ]
     },
     "metadata": {
      "needs_background": "light"
     },
     "output_type": "display_data"
    }
   ],
   "source": [
    "ix = random.randint(0, len(train_ids))\n",
    "imshow(X_train[ix])\n",
    "plt.show()\n",
    "imshow(np.squeeze(Y_train[ix]))\n",
    "plt.show()"
   ]
  },
  {
   "cell_type": "code",
   "execution_count": null,
   "metadata": {},
   "outputs": [],
   "source": []
  },
  {
   "cell_type": "code",
   "execution_count": 6,
   "metadata": {},
   "outputs": [],
   "source": [
    "# Define IoU metric\n",
    "def mean_iou(y_true, y_pred):\n",
    "    prec = []\n",
    "    for t in np.arange(0.5, 1.0, 0.05):\n",
    "        y_pred_ = tf.to_int32(y_pred > t)\n",
    "        score, up_opt = tf.metrics.mean_iou(y_true, y_pred_, 2)\n",
    "        K.get_session().run(tf.local_variables_initializer())\n",
    "        with tf.control_dependencies([up_opt]):\n",
    "            score = tf.identity(score)\n",
    "        prec.append(score)\n",
    "    return K.mean(K.stack(prec), axis=0)"
   ]
  },
  {
   "cell_type": "code",
   "execution_count": 7,
   "metadata": {},
   "outputs": [],
   "source": [
    "smooth = 1.\n",
    "\n",
    "# Metric function\n",
    "def dice_coef(y_true, y_pred):\n",
    "    y_true_f = K.flatten(y_true)\n",
    "    y_pred_f = K.flatten(y_pred)\n",
    "    intersection = K.sum(y_true_f * y_pred_f)\n",
    "    return (2. * intersection + smooth) / (K.sum(y_true_f) + K.sum(y_pred_f) + smooth)\n"
   ]
  },
  {
   "cell_type": "code",
   "execution_count": 8,
   "metadata": {},
   "outputs": [],
   "source": [
    "def get_unet(IMG_WIDTH=128,IMG_HEIGHT=128,IMG_CHANNELS=3):\n",
    "    inputs = Input((IMG_HEIGHT, IMG_WIDTH, IMG_CHANNELS))\n",
    "    s = Lambda(lambda x: x / 255) (inputs)\n",
    "    c1 = Conv2D(16, (3, 3), activation='elu', kernel_initializer='he_normal', padding='same') (s)\n",
    "    c1 = Dropout(0.1) (c1)\n",
    "    c1 = Conv2D(16, (3, 3), activation='elu', kernel_initializer='he_normal', padding='same') (c1)\n",
    "    p1 = MaxPooling2D((2, 2)) (c1)\n",
    "    c2 = Conv2D(32, (3, 3), activation='elu', kernel_initializer='he_normal', padding='same') (p1)\n",
    "    c2 = Dropout(0.1) (c2)\n",
    "    c2 = Conv2D(32, (3, 3), activation='elu', kernel_initializer='he_normal', padding='same') (c2)\n",
    "    p2 = MaxPooling2D((2, 2)) (c2)\n",
    "\n",
    "    c3 = Conv2D(64, (3, 3), activation='elu', kernel_initializer='he_normal', padding='same') (p2)\n",
    "    c3 = Dropout(0.2) (c3)\n",
    "    c3 = Conv2D(64, (3, 3), activation='elu', kernel_initializer='he_normal', padding='same') (c3)\n",
    "    p3 = MaxPooling2D((2, 2)) (c3)\n",
    "\n",
    "    c4 = Conv2D(128, (3, 3), activation='elu', kernel_initializer='he_normal', padding='same') (p3)\n",
    "    c4 = Dropout(0.2) (c4)\n",
    "    c4 = Conv2D(128, (3, 3), activation='elu', kernel_initializer='he_normal', padding='same') (c4)\n",
    "    p4 = MaxPooling2D(pool_size=(2, 2)) (c4)\n",
    "\n",
    "    c5 = Conv2D(256, (3, 3), activation='elu', kernel_initializer='he_normal', padding='same') (p4)\n",
    "    c5 = Dropout(0.3) (c5)\n",
    "    c5 = Conv2D(256, (3, 3), activation='elu', kernel_initializer='he_normal', padding='same') (c5)\n",
    "\n",
    "    u6 = Conv2DTranspose(128, (2, 2), strides=(2, 2), padding='same') (c5)\n",
    "    u6 = concatenate([u6, c4])\n",
    "    c6 = Conv2D(128, (3, 3), activation='elu', kernel_initializer='he_normal', padding='same') (u6)\n",
    "    c6 = Dropout(0.2) (c6)\n",
    "    c6 = Conv2D(128, (3, 3), activation='elu', kernel_initializer='he_normal', padding='same') (c6)\n",
    "\n",
    "    u7 = Conv2DTranspose(64, (2, 2), strides=(2, 2), padding='same') (c6)\n",
    "    u7 = concatenate([u7, c3])\n",
    "    c7 = Conv2D(64, (3, 3), activation='elu', kernel_initializer='he_normal', padding='same') (u7)\n",
    "    c7 = Dropout(0.2) (c7)\n",
    "    c7 = Conv2D(64, (3, 3), activation='elu', kernel_initializer='he_normal', padding='same') (c7)\n",
    "\n",
    "    u8 = Conv2DTranspose(32, (2, 2), strides=(2, 2), padding='same') (c7)\n",
    "    u8 = concatenate([u8, c2])\n",
    "    c8 = Conv2D(32, (3, 3), activation='elu', kernel_initializer='he_normal', padding='same') (u8)\n",
    "    c8 = Dropout(0.1) (c8)\n",
    "    c8 = Conv2D(32, (3, 3), activation='elu', kernel_initializer='he_normal', padding='same') (c8)\n",
    "\n",
    "    u9 = Conv2DTranspose(16, (2, 2), strides=(2, 2), padding='same') (c8)\n",
    "    u9 = concatenate([u9, c1], axis=3)\n",
    "    c9 = Conv2D(16, (3, 3), activation='elu', kernel_initializer='he_normal', padding='same') (u9)\n",
    "    c9 = Dropout(0.1) (c9)\n",
    "    c9 = Conv2D(16, (3, 3), activation='elu', kernel_initializer='he_normal', padding='same') (c9)\n",
    "\n",
    "    outputs = Conv2D(1, (1, 1), activation='sigmoid') (c9)\n",
    "\n",
    "    model = Model(inputs=[inputs], outputs=[outputs])\n",
    "    model.compile(optimizer='adam',loss='binary_crossentropy', metrics=[dice_coef])\n",
    "    return model"
   ]
  },
  {
   "cell_type": "code",
   "execution_count": 9,
   "metadata": {},
   "outputs": [
    {
     "name": "stdout",
     "output_type": "stream",
     "text": [
      "Train on 543 samples, validate on 61 samples\n",
      "Epoch 1/50\n",
      "543/543 [==============================] - 54s 99ms/step - loss: 0.4233 - dice_coef: 0.3697 - val_loss: 0.2303 - val_dice_coef: 0.6776\n",
      "\n",
      "Epoch 00001: val_loss improved from inf to 0.23033, saving model to model-basicunet.h5\n",
      "Epoch 2/50\n",
      "543/543 [==============================] - 46s 85ms/step - loss: 0.2017 - dice_coef: 0.6900 - val_loss: 0.1858 - val_dice_coef: 0.7653\n",
      "\n",
      "Epoch 00002: val_loss improved from 0.23033 to 0.18583, saving model to model-basicunet.h5\n",
      "Epoch 3/50\n",
      "543/543 [==============================] - 47s 87ms/step - loss: 0.1577 - dice_coef: 0.7654 - val_loss: 0.1552 - val_dice_coef: 0.8008\n",
      "\n",
      "Epoch 00003: val_loss improved from 0.18583 to 0.15520, saving model to model-basicunet.h5\n",
      "Epoch 4/50\n",
      "543/543 [==============================] - 47s 86ms/step - loss: 0.1570 - dice_coef: 0.7618 - val_loss: 0.1184 - val_dice_coef: 0.8459\n",
      "\n",
      "Epoch 00004: val_loss improved from 0.15520 to 0.11839, saving model to model-basicunet.h5\n",
      "Epoch 5/50\n",
      "543/543 [==============================] - 46s 85ms/step - loss: 0.1337 - dice_coef: 0.8018 - val_loss: 0.1096 - val_dice_coef: 0.8590\n",
      "\n",
      "Epoch 00005: val_loss improved from 0.11839 to 0.10956, saving model to model-basicunet.h5\n",
      "Epoch 6/50\n",
      "543/543 [==============================] - 46s 85ms/step - loss: 0.1220 - dice_coef: 0.8198 - val_loss: 0.1467 - val_dice_coef: 0.8566\n",
      "\n",
      "Epoch 00006: val_loss did not improve from 0.10956\n",
      "Epoch 7/50\n",
      "543/543 [==============================] - 46s 84ms/step - loss: 0.1133 - dice_coef: 0.8315 - val_loss: 0.1040 - val_dice_coef: 0.8817\n",
      "\n",
      "Epoch 00007: val_loss improved from 0.10956 to 0.10405, saving model to model-basicunet.h5\n",
      "Epoch 8/50\n",
      "543/543 [==============================] - 46s 85ms/step - loss: 0.1107 - dice_coef: 0.8381 - val_loss: 0.0949 - val_dice_coef: 0.8798\n",
      "\n",
      "Epoch 00008: val_loss improved from 0.10405 to 0.09489, saving model to model-basicunet.h5\n",
      "Epoch 9/50\n",
      "543/543 [==============================] - 46s 85ms/step - loss: 0.1083 - dice_coef: 0.8413 - val_loss: 0.1045 - val_dice_coef: 0.8856\n",
      "\n",
      "Epoch 00009: val_loss did not improve from 0.09489\n",
      "Epoch 10/50\n",
      "543/543 [==============================] - 46s 85ms/step - loss: 0.1099 - dice_coef: 0.8347 - val_loss: 0.0829 - val_dice_coef: 0.8882\n",
      "\n",
      "Epoch 00010: val_loss improved from 0.09489 to 0.08286, saving model to model-basicunet.h5\n",
      "Epoch 11/50\n",
      "543/543 [==============================] - 46s 84ms/step - loss: 0.1118 - dice_coef: 0.8397 - val_loss: 0.0934 - val_dice_coef: 0.8786\n",
      "\n",
      "Epoch 00011: val_loss did not improve from 0.08286\n",
      "Epoch 12/50\n",
      "543/543 [==============================] - 46s 85ms/step - loss: 0.1039 - dice_coef: 0.8491 - val_loss: 0.0827 - val_dice_coef: 0.8891\n",
      "\n",
      "Epoch 00012: val_loss improved from 0.08286 to 0.08267, saving model to model-basicunet.h5\n",
      "Epoch 13/50\n",
      "543/543 [==============================] - 46s 85ms/step - loss: 0.1096 - dice_coef: 0.8440 - val_loss: 0.0874 - val_dice_coef: 0.8869\n",
      "\n",
      "Epoch 00013: val_loss did not improve from 0.08267\n",
      "Epoch 14/50\n",
      "543/543 [==============================] - 46s 84ms/step - loss: 0.0971 - dice_coef: 0.8521 - val_loss: 0.0748 - val_dice_coef: 0.9019\n",
      "\n",
      "Epoch 00014: val_loss improved from 0.08267 to 0.07483, saving model to model-basicunet.h5\n",
      "Epoch 15/50\n",
      "543/543 [==============================] - 46s 84ms/step - loss: 0.0948 - dice_coef: 0.8609 - val_loss: 0.0722 - val_dice_coef: 0.9032\n",
      "\n",
      "Epoch 00015: val_loss improved from 0.07483 to 0.07216, saving model to model-basicunet.h5\n",
      "Epoch 16/50\n",
      "543/543 [==============================] - 46s 85ms/step - loss: 0.0925 - dice_coef: 0.8659 - val_loss: 0.0757 - val_dice_coef: 0.9044\n",
      "\n",
      "Epoch 00016: val_loss did not improve from 0.07216\n",
      "Epoch 17/50\n",
      "543/543 [==============================] - 46s 86ms/step - loss: 0.0902 - dice_coef: 0.8661 - val_loss: 0.0799 - val_dice_coef: 0.9040\n",
      "\n",
      "Epoch 00017: val_loss did not improve from 0.07216\n",
      "Epoch 18/50\n",
      "543/543 [==============================] - 46s 85ms/step - loss: 0.0885 - dice_coef: 0.8697 - val_loss: 0.0763 - val_dice_coef: 0.9022\n",
      "\n",
      "Epoch 00018: val_loss did not improve from 0.07216\n",
      "Epoch 19/50\n",
      "543/543 [==============================] - 46s 84ms/step - loss: 0.0874 - dice_coef: 0.8652 - val_loss: 0.0869 - val_dice_coef: 0.8882\n",
      "\n",
      "Epoch 00019: val_loss did not improve from 0.07216\n",
      "Epoch 20/50\n",
      "543/543 [==============================] - 46s 86ms/step - loss: 0.1033 - dice_coef: 0.8405 - val_loss: 0.0775 - val_dice_coef: 0.8993\n",
      "\n",
      "Epoch 00020: val_loss did not improve from 0.07216\n",
      "Epoch 00020: early stopping\n"
     ]
    }
   ],
   "source": [
    "earlystopper = EarlyStopping(patience=5, verbose=1)\n",
    "checkpointer = ModelCheckpoint('model-basicunet.h5', verbose=1, save_best_only=True)\n",
    "# get u_net model\n",
    "model = get_unet()\n",
    "results = model.fit(X_train, Y_train, validation_split=0.1, batch_size=20, epochs=50, \n",
    "                    callbacks=[earlystopper, checkpointer])"
   ]
  },
  {
   "cell_type": "code",
   "execution_count": null,
   "metadata": {},
   "outputs": [],
   "source": []
  },
  {
   "cell_type": "code",
   "execution_count": 10,
   "metadata": {},
   "outputs": [
    {
     "name": "stdout",
     "output_type": "stream",
     "text": [
      "Getting and resizing train images and masks ... \n"
     ]
    },
    {
     "name": "stderr",
     "output_type": "stream",
     "text": [
      "100%|██████████| 67/67 [00:30<00:00,  2.19it/s]\n"
     ]
    }
   ],
   "source": [
    "\n",
    "# Get and resize test images and masks\n",
    "X_test = np.zeros((len(test_ids), IMG_HEIGHT, IMG_WIDTH, IMG_CHANNELS), dtype=np.uint8)\n",
    "Y_test = np.zeros((len(test_ids), IMG_HEIGHT, IMG_WIDTH, 1), dtype=np.bool)\n",
    "print('Getting and resizing train images and masks ... ')\n",
    "sys.stdout.flush()\n",
    "for n, id_ in tqdm(enumerate(test_ids), total=len(test_ids)):\n",
    "    path = TEST_PATH + id_\n",
    "    img = imread(path + '/images/' + id_ + '.png')[:,:,:IMG_CHANNELS]\n",
    "    img = resize(img, (IMG_HEIGHT, IMG_WIDTH), mode='constant', preserve_range=True)\n",
    "    X_test[n] = img\n",
    "    mask = np.zeros((IMG_HEIGHT, IMG_WIDTH, 1), dtype=np.bool)\n",
    "    for mask_file in next(os.walk(path + '/masks/'))[2]:\n",
    "        mask_ = imread(path + '/masks/' + mask_file)\n",
    "        mask_ = np.expand_dims(resize(mask_, (IMG_HEIGHT, IMG_WIDTH), mode='constant', \n",
    "                                      preserve_range=True), axis=-1)\n",
    "        mask = np.maximum(mask, mask_)\n",
    "    Y_test[n] = mask\n",
    "    "
   ]
  },
  {
   "cell_type": "code",
   "execution_count": 11,
   "metadata": {},
   "outputs": [
    {
     "data": {
      "text/plain": [
       "[0.09884367941586829, 0.8693451881408691]"
      ]
     },
     "execution_count": 11,
     "metadata": {},
     "output_type": "execute_result"
    }
   ],
   "source": [
    "model = load_model('model-basicunet.h5', custom_objects={'dice_coef': dice_coef})\n",
    "model.evaluate(X_test, Y_test, batch_size=1, verbose=0, sample_weight=None, steps=None)\n"
   ]
  },
  {
   "cell_type": "code",
   "execution_count": 12,
   "metadata": {},
   "outputs": [
    {
     "name": "stdout",
     "output_type": "stream",
     "text": [
      "67/67 [==============================] - 2s 27ms/step\n"
     ]
    }
   ],
   "source": [
    "preds_test = model.predict(X_test, verbose=1)\n",
    "\n",
    "# Threshold predictions\n",
    "preds_test_t = (preds_test > 0.5).astype(np.uint8)"
   ]
  },
  {
   "cell_type": "code",
   "execution_count": 13,
   "metadata": {},
   "outputs": [
    {
     "data": {
      "image/png": "[encoded data removed]",
      "text/plain": [
       "<Figure size 432x288 with 1 Axes>"
      ]
     },
     "metadata": {
      "needs_background": "light"
     },
     "output_type": "display_data"
    },
    {
     "data": {
      "image/png": "[encoded data removed]",
      "text/plain": [
       "<Figure size 432x288 with 1 Axes>"
      ]
     },
     "metadata": {
      "needs_background": "light"
     },
     "output_type": "display_data"
    },
    {
     "data": {
      "image/png": "[encoded data removed]",
      "text/plain": [
       "<Figure size 432x288 with 2 Axes>"
      ]
     },
     "metadata": {
      "needs_background": "light"
     },
     "output_type": "display_data"
    }
   ],
   "source": [
    "ix = random.randint(0, len(preds_test_t))\n",
    "imshow(X_test[ix]/255)\n",
    "plt.show()\n",
    "imshow(np.squeeze(Y_test[ix]))\n",
    "plt.show()\n",
    "imshow(np.squeeze(preds_test_t[ix]))\n",
    "plt.show()"
   ]
  },
  {
   "cell_type": "code",
   "execution_count": null,
   "metadata": {},
   "outputs": [],
   "source": []
  },
  {
   "cell_type": "code",
   "execution_count": 91,
   "metadata": {},
   "outputs": [
    {
     "name": "stdout",
     "output_type": "stream",
     "text": [
      "Getting and resizing train images and masks ... \n"
     ]
    },
    {
     "name": "stderr",
     "output_type": "stream",
     "text": [
      "100%|██████████| 6/6 [00:00<00:00, 38.28it/s]"
     ]
    },
    {
     "name": "stdout",
     "output_type": "stream",
     "text": [
      "6\n"
     ]
    },
    {
     "name": "stderr",
     "output_type": "stream",
     "text": [
      "\n"
     ]
    }
   ],
   "source": [
    "from PIL import Image\n",
    "TEST_PATH2 = './dataset2/image/'\n",
    "test_ids2 = next(os.walk(TEST_PATH2))[2]\n",
    "d2_train = np.zeros((len(test_ids2), IMG_HEIGHT, IMG_WIDTH, IMG_CHANNELS), dtype=np.uint8)\n",
    "print('Getting and resizing train images and masks ... ')\n",
    "sys.stdout.flush()\n",
    "print(len(test_ids2))\n",
    "for n, id_ in tqdm(enumerate(test_ids2), total=len(test_ids2)):\n",
    "    path = TEST_PATH2\n",
    "    img = Image.open(path  + id_ )\n",
    "    img = img.convert('RGB')\n",
    "    img = np.array(img) \n",
    "    img = resize(img, (IMG_HEIGHT, IMG_WIDTH), mode='constant', preserve_range=True)\n",
    "    d2_train[n] = img"
   ]
  },
  {
   "cell_type": "code",
   "execution_count": 92,
   "metadata": {},
   "outputs": [
    {
     "name": "stdout",
     "output_type": "stream",
     "text": [
      "6/6 [==============================] - 1s 130ms/step\n"
     ]
    }
   ],
   "source": [
    "model = load_model('model-basicunet.h5', custom_objects={'dice_coef': dice_coef})\n",
    "\n",
    "preds_test2 = model.predict(d2_train, verbose=1)\n",
    "\n",
    "# Threshold predictions\n",
    "preds_test_t2 = (preds_test2 > 0.5).astype(np.uint8)"
   ]
  },
  {
   "cell_type": "code",
   "execution_count": 93,
   "metadata": {},
   "outputs": [
    {
     "data": {
      "image/png": "[encoded data removed]",
      "text/plain": [
       "<Figure size 432x288 with 1 Axes>"
      ]
     },
     "metadata": {
      "needs_background": "light"
     },
     "output_type": "display_data"
    },
    {
     "data": {
      "image/png": "[encoded data removed]",
      "text/plain": [
       "<Figure size 432x288 with 2 Axes>"
      ]
     },
     "metadata": {
      "needs_background": "light"
     },
     "output_type": "display_data"
    }
   ],
   "source": [
    "ix = random.randint(0, len(preds_test_t2))\n",
    "imshow(d2_train[ix])\n",
    "plt.show()\n",
    "imshow(np.squeeze(preds_test_t2[ix]))\n",
    "plt.show()"
   ]
  },
  {
   "cell_type": "code",
   "execution_count": null,
   "metadata": {},
   "outputs": [],
   "source": []
  }
 ],
 "metadata": {
  "kernelspec": {
   "display_name": "Python 3",
   "language": "python",
   "name": "python3"
  },
  "language_info": {
   "codemirror_mode": {
    "name": "ipython",
    "version": 3
   },
   "file_extension": ".py",
   "mimetype": "text/x-python",
   "name": "python",
   "nbconvert_exporter": "python",
   "pygments_lexer": "ipython3",
   "version": "3.7.6"
  }
 },
 "nbformat": 4,
 "nbformat_minor": 4
}
