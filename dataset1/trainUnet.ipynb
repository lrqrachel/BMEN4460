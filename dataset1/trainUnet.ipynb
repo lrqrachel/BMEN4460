{
 "cells": [
  {
   "cell_type": "code",
   "execution_count": 55,
   "metadata": {},
   "outputs": [],
   "source": [
    "from Unet import *\n",
    "from data import *\n",
    "from PIL import Image\n",
    "import matplotlib.pyplot as plt\n",
    "import numpy as np"
   ]
  },
  {
   "cell_type": "markdown",
   "metadata": {},
   "source": [
    "## Train your Unet with membrane data\n",
    "membrane data is in folder membrane/, it is a binary classification task.\n",
    "\n",
    "The input shape of image and mask are the same :(batch_size,rows,cols,channel = 1)"
   ]
  },
  {
   "cell_type": "markdown",
   "metadata": {},
   "source": [
    "### Train with data generator"
   ]
  },
  {
   "cell_type": "code",
   "execution_count": 8,
   "metadata": {},
   "outputs": [
    {
     "name": "stdout",
     "output_type": "stream",
     "text": [
      "Epoch 1/7\n",
      "Found 3 images belonging to 1 classes.\n",
      "Found 24 images belonging to 1 classes.\n",
      "Found 3 images belonging to 1 classes.\n",
      "Found 24 images belonging to 1 classes.\n",
      "1000/1000 [==============================] - 934s 934ms/step - loss: 0.2365 - dice_coef: 0.9057 - val_loss: 1.0713 - val_dice_coef: 0.8620\n",
      "\n",
      "Epoch 00001: loss improved from inf to 0.23653, saving model to unet_membrane.hdf5\n",
      "Epoch 2/7\n",
      "1000/1000 [==============================] - 927s 927ms/step - loss: 0.1723 - dice_coef: 0.9310 - val_loss: 1.3520 - val_dice_coef: 0.8572\n",
      "\n",
      "Epoch 00002: loss improved from 0.23653 to 0.17229, saving model to unet_membrane.hdf5\n",
      "Epoch 3/7\n",
      "1000/1000 [==============================] - 926s 926ms/step - loss: 0.1546 - dice_coef: 0.9379 - val_loss: 2.0897 - val_dice_coef: 0.8512\n",
      "\n",
      "Epoch 00003: loss improved from 0.17229 to 0.15462, saving model to unet_membrane.hdf5\n",
      "Epoch 4/7\n",
      "1000/1000 [==============================] - 926s 926ms/step - loss: 0.1454 - dice_coef: 0.9416 - val_loss: 0.2469 - val_dice_coef: 0.8596\n",
      "\n",
      "Epoch 00004: loss improved from 0.15462 to 0.14543, saving model to unet_membrane.hdf5\n",
      "Epoch 5/7\n",
      "1000/1000 [==============================] - 926s 926ms/step - loss: 0.1394 - dice_coef: 0.9440 - val_loss: 0.2942 - val_dice_coef: 0.9370\n",
      "\n",
      "Epoch 00005: loss improved from 0.14543 to 0.13945, saving model to unet_membrane.hdf5\n",
      "Epoch 6/7\n",
      "1000/1000 [==============================] - 929s 929ms/step - loss: 0.1354 - dice_coef: 0.9456 - val_loss: 0.2709 - val_dice_coef: 0.9363\n",
      "\n",
      "Epoch 00006: loss improved from 0.13945 to 0.13540, saving model to unet_membrane.hdf5\n",
      "Epoch 7/7\n",
      "1000/1000 [==============================] - 926s 926ms/step - loss: 0.1322 - dice_coef: 0.9469 - val_loss: 0.3075 - val_dice_coef: 0.9382\n",
      "\n",
      "Epoch 00007: loss improved from 0.13540 to 0.13221, saving model to unet_membrane.hdf5\n"
     ]
    }
   ],
   "source": [
    "data_gen_args = dict(rotation_range=0.2,\n",
    "                    width_shift_range=0.05,\n",
    "                    height_shift_range=0.05,\n",
    "                    shear_range=0.05,\n",
    "                    zoom_range=0.05,\n",
    "                    horizontal_flip=True,\n",
    "                    fill_mode='nearest')\n",
    "myGene = trainGenerator(2,'dataset/train','image','label',data_gen_args,save_to_dir = None)\n",
    "validGene= trainGenerator(2,'dataset/validation','image','label',data_gen_args,save_to_dir = None)\n",
    "model = unet()\n",
    "model_checkpoint = ModelCheckpoint('unet_membrane.hdf5', monitor='loss',verbose=1, save_best_only=True)\n",
    "hist = model.fit_generator(myGene, steps_per_epoch=1000, epochs=7, callbacks=[model_checkpoint], \n",
    "                     validation_data=validGene, validation_steps=3)"
   ]
  },
  {
   "cell_type": "markdown",
   "metadata": {},
   "source": [
    "### Train with npy file"
   ]
  },
  {
   "cell_type": "code",
   "execution_count": 9,
   "metadata": {},
   "outputs": [],
   "source": [
    "#imgs_train,imgs_mask_train = geneTrainNpy(\"data/membrane/train/aug/\",\"data/membrane/train/aug/\")\n",
    "#model.fit(imgs_train, imgs_mask_train, batch_size=2, nb_epoch=10, verbose=1,validation_split=0.2, shuffle=True, callbacks=[model_checkpoint])"
   ]
  },
  {
   "cell_type": "markdown",
   "metadata": {},
   "source": [
    "### test your model and save predicted results"
   ]
  },
  {
   "cell_type": "code",
   "execution_count": 21,
   "metadata": {},
   "outputs": [
    {
     "name": "stdout",
     "output_type": "stream",
     "text": [
      "3/3 [==============================] - 1s 444ms/step\n"
     ]
    },
    {
     "name": "stderr",
     "output_type": "stream",
     "text": [
      "Lossy conversion from float32 to uint8. Range [0, 1]. Convert image to uint8 prior to saving to suppress this warning.\n",
      "Lossy conversion from float32 to uint8. Range [0, 1]. Convert image to uint8 prior to saving to suppress this warning.\n",
      "Lossy conversion from float32 to uint8. Range [0, 1]. Convert image to uint8 prior to saving to suppress this warning.\n"
     ]
    }
   ],
   "source": [
    "testGene = testGenerator('dataset/test/image')\n",
    "model = unet()\n",
    "model.load_weights(\"unet_membrane.hdf5\")\n",
    "results = model.predict_generator(testGene,3,verbose=1)\n",
    "saveResult(\"dataset/test/results\",results)"
   ]
  },
  {
   "cell_type": "code",
   "execution_count": 67,
   "metadata": {},
   "outputs": [],
   "source": [
    "import matplotlib.pyplot as plt\n",
    "img = io.imread('./dataset/test/label/0.png')\n",
    "img = img.astype(np.float32)\n",
    "img1 = trans.resize(img,[256,256])"
   ]
  },
  {
   "cell_type": "code",
   "execution_count": 68,
   "metadata": {},
   "outputs": [],
   "source": [
    "img = io.imread('./dataset/test/results/0_predict.png')\n",
    "img=img.astype(np.float32)"
   ]
  },
  {
   "cell_type": "code",
   "execution_count": 69,
   "metadata": {},
   "outputs": [
    {
     "name": "stdout",
     "output_type": "stream",
     "text": [
      "Mean Dice Coeff :  tf.Tensor(0.94498014, shape=(), dtype=float32)\n"
     ]
    }
   ],
   "source": [
    "mean1=dice_coef(img1/255, img/255)\n",
    "print(\"Mean Dice Coeff : \",mean1)"
   ]
  },
  {
   "cell_type": "code",
   "execution_count": 73,
   "metadata": {},
   "outputs": [
    {
     "name": "stdout",
     "output_type": "stream",
     "text": [
      "Mean Dice Coeff :  tf.Tensor(0.9407282, shape=(), dtype=float32)\n"
     ]
    }
   ],
   "source": [
    "img = io.imread('./dataset/test/label/1.png')\n",
    "img = img.astype(np.float32)\n",
    "img2 = trans.resize(img,[256,256])\n",
    "img = io.imread('./dataset/test/results/1_predict.png')\n",
    "img=img.astype(np.float32)\n",
    "mean2=dice_coef(img2/255, img/255)\n",
    "print(\"Mean Dice Coeff : \",mean2)"
   ]
  },
  {
   "cell_type": "code",
   "execution_count": 74,
   "metadata": {},
   "outputs": [
    {
     "name": "stdout",
     "output_type": "stream",
     "text": [
      "Mean Dice Coeff :  tf.Tensor(0.9360681, shape=(), dtype=float32)\n"
     ]
    }
   ],
   "source": [
    "img = io.imread('./dataset/test/label/2.png')\n",
    "img = img.astype(np.float32)\n",
    "img3 = trans.resize(img,[256,256])\n",
    "img = io.imread('./dataset/test/results/2_predict.png')\n",
    "img = img.astype(np.float32)\n",
    "mean3 = dice_coef(img3/255, img/255)\n",
    "print(\"Mean Dice Coeff : \",mean3)"
   ]
  },
  {
   "cell_type": "code",
   "execution_count": 76,
   "metadata": {},
   "outputs": [
    {
     "name": "stdout",
     "output_type": "stream",
     "text": [
      "tf.Tensor(0.9405921, shape=(), dtype=float32)\n"
     ]
    }
   ],
   "source": [
    "mean_average=(mean1+mean2+mean3)/3\n",
    "print(mean_average)"
   ]
  }
 ],
 "metadata": {
  "kernelspec": {
   "display_name": "Python 3",
   "language": "python",
   "name": "python3"
  },
  "language_info": {
   "codemirror_mode": {
    "name": "ipython",
    "version": 3
   },
   "file_extension": ".py",
   "mimetype": "text/x-python",
   "name": "python",
   "nbconvert_exporter": "python",
   "pygments_lexer": "ipython3",
   "version": "3.5.3"
  }
 },
 "nbformat": 4,
 "nbformat_minor": 4
}
