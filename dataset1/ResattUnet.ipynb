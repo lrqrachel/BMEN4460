{
 "cells": [
  {
   "cell_type": "code",
   "execution_count": 2,
   "metadata": {},
   "outputs": [
    {
     "name": "stderr",
     "output_type": "stream",
     "text": [
      "Using TensorFlow backend.\n"
     ]
    }
   ],
   "source": [
    "from ResattUnet import *\n",
    "from data import *\n",
    "from PIL import Image\n",
    "import matplotlib.pyplot as plt\n",
    "import numpy as np\n",
    "from keras.callbacks import ModelCheckpoint, LearningRateScheduler, ReduceLROnPlateau, EarlyStopping"
   ]
  },
  {
   "cell_type": "markdown",
   "metadata": {},
   "source": [
    "## Train your Unet with membrane data\n",
    "membrane data is in folder membrane/, it is a binary classification task.\n",
    "\n",
    "The input shape of image and mask are the same :(batch_size,rows,cols,channel = 1)"
   ]
  },
  {
   "cell_type": "markdown",
   "metadata": {},
   "source": [
    "### Train with data generator"
   ]
  },
  {
   "cell_type": "code",
   "execution_count": null,
   "metadata": {},
   "outputs": [
    {
     "name": "stdout",
     "output_type": "stream",
     "text": [
      "Epoch 1/7\n",
      "Found 3 images belonging to 1 classes.\n",
      "Found 24 images belonging to 1 classes.\n",
      "Found 24 images belonging to 1 classes.\n",
      "Found 3 images belonging to 1 classes.\n",
      "1000/1000 [==============================] - 6556s 7s/step - loss: 1.0222 - dice_coef: 0.6515 - val_loss: 3.6169 - val_dice_coef: 0.6399\n",
      "\n",
      "Epoch 00001: loss improved from inf to 1.02215, saving model to unet_membrane.hdf5\n",
      "Epoch 2/7\n",
      "1000/1000 [==============================] - 5293s 5s/step - loss: 0.5492 - dice_coef: 0.8183 - val_loss: 0.7672 - val_dice_coef: 0.5951\n",
      "\n",
      "Epoch 00002: loss improved from 1.02215 to 0.54919, saving model to unet_membrane.hdf5\n",
      "Epoch 3/7\n",
      "1000/1000 [==============================] - 5286s 5s/step - loss: 0.4524 - dice_coef: 0.8535 - val_loss: 0.4174 - val_dice_coef: 0.8452\n",
      "\n",
      "Epoch 00003: loss improved from 0.54919 to 0.45241, saving model to unet_membrane.hdf5\n",
      "Epoch 4/7\n",
      "1000/1000 [==============================] - 5335s 5s/step - loss: 0.4154 - dice_coef: 0.8461 - val_loss: 0.8257 - val_dice_coef: 0.5654\n",
      "\n",
      "Epoch 00004: loss improved from 0.45241 to 0.41542, saving model to unet_membrane.hdf5\n",
      "Epoch 5/7\n",
      " 708/1000 [====================>.........] - ETA: 26:05 - loss: 0.5005 - dice_coef: 0.8608"
     ]
    }
   ],
   "source": [
    "data_gen_args = dict(rotation_range=0.2,\n",
    "                    width_shift_range=0.05,\n",
    "                    height_shift_range=0.05,\n",
    "                    shear_range=0.05,\n",
    "                    zoom_range=0.05,\n",
    "                    horizontal_flip=True,\n",
    "                    fill_mode='nearest')\n",
    "myGene = trainGenerator(2,'./train','image','label',data_gen_args,save_to_dir = None)\n",
    "validGene= trainGenerator(2,'./validation','image','label',data_gen_args,save_to_dir = None)\n",
    "# get u_net model\n",
    "model = Attention_ResUNet()\n",
    "model_checkpoint = ModelCheckpoint('ResattUnet.hdf5', monitor='loss',verbose=1, save_best_only=True)\n",
    "hist = model.fit_generator(myGene, steps_per_epoch=1000, epochs=7, callbacks=[model_checkpoint], \n",
    "                     validation_data=validGene, validation_steps=3)\n"
   ]
  },
  {
   "cell_type": "markdown",
   "metadata": {},
   "source": [
    "### Train with npy file"
   ]
  },
  {
   "cell_type": "code",
   "execution_count": 10,
   "metadata": {},
   "outputs": [],
   "source": [
    "#imgs_train,imgs_mask_train = geneTrainNpy(\"data/membrane/train/aug/\",\"data/membrane/train/aug/\")\n",
    "#model.fit(imgs_train, imgs_mask_train, batch_size=2, nb_epoch=10, verbose=1,validation_split=0.2, shuffle=True, callbacks=[model_checkpoint])"
   ]
  },
  {
   "cell_type": "markdown",
   "metadata": {},
   "source": [
    "### test your model and save predicted results"
   ]
  },
  {
   "cell_type": "code",
   "execution_count": 20,
   "metadata": {},
   "outputs": [
    {
     "name": "stdout",
     "output_type": "stream",
     "text": [
      "3/3 [==============================] - 10s 3s/step\n"
     ]
    },
    {
     "name": "stderr",
     "output_type": "stream",
     "text": [
      "Lossy conversion from float32 to uint8. Range [0, 1]. Convert image to uint8 prior to saving to suppress this warning.\n",
      "Lossy conversion from float32 to uint8. Range [0, 1]. Convert image to uint8 prior to saving to suppress this warning.\n",
      "Lossy conversion from float32 to uint8. Range [0, 1]. Convert image to uint8 prior to saving to suppress this warning.\n"
     ]
    }
   ],
   "source": [
    "testGene = testGenerator('./test/image')\n",
    "model = Attention_ResUNet()\n",
    "model.load_weights(\"ResattUnet.hdf5\")\n",
    "results = model.predict_generator(testGene,3,verbose=1)\n",
    "results[results>0.5]=1\n",
    "results[results<=0.5]=0\n",
    "saveResult(\"./test/results\",results)"
   ]
  },
  {
   "cell_type": "code",
   "execution_count": 21,
   "metadata": {},
   "outputs": [
    {
     "name": "stdout",
     "output_type": "stream",
     "text": [
      "[[255 255 255 ...   0   0   0]\n",
      " [255 255 255 ...   0   0   0]\n",
      " [255 255 255 ...   0   0   0]\n",
      " ...\n",
      " [255 255 255 ... 255 255 255]\n",
      " [255 255 255 ... 255 255 255]\n",
      " [255 255 255 ... 255 255 255]]\n"
     ]
    }
   ],
   "source": [
    "img=io.imread('./test/label/0.png')\n",
    "print(img)"
   ]
  },
  {
   "cell_type": "code",
   "execution_count": 33,
   "metadata": {},
   "outputs": [],
   "source": [
    "import matplotlib.pyplot as plt\n",
    "img = io.imread('./test/label/0.png')\n",
    "img = img.astype(np.double)\n",
    "img1 = trans.resize(img,[256,256])"
   ]
  },
  {
   "cell_type": "code",
   "execution_count": 34,
   "metadata": {},
   "outputs": [
    {
     "name": "stdout",
     "output_type": "stream",
     "text": [
      "[[255.   0.   0. ...   0.   0.   0.]\n",
      " [255.   0.   0. ...   0.   0.   0.]\n",
      " [255.   0.   0. ...   0.   0.   0.]\n",
      " ...\n",
      " [255.   0.   0. ...   0.   0.   0.]\n",
      " [255.   0.   0. ...   0.   0.   0.]\n",
      " [255.   0.   0. ...   0.   0. 255.]]\n"
     ]
    }
   ],
   "source": [
    "img = io.imread('./test/results/0_predict.png')\n",
    "img=img.astype(np.double)\n",
    "print(img)"
   ]
  },
  {
   "cell_type": "code",
   "execution_count": 35,
   "metadata": {},
   "outputs": [
    {
     "name": "stdout",
     "output_type": "stream",
     "text": [
      "Mean Dice Coeff :  tf.Tensor(0.802546666678266, shape=(), dtype=float64)\n"
     ]
    }
   ],
   "source": [
    "mean1=dice_coef(img1/255, img/255)\n",
    "print(\"Mean Dice Coeff : \",mean1)"
   ]
  },
  {
   "cell_type": "code",
   "execution_count": 37,
   "metadata": {},
   "outputs": [
    {
     "name": "stdout",
     "output_type": "stream",
     "text": [
      "Mean Dice Coeff :  tf.Tensor(0.8346893623058487, shape=(), dtype=float64)\n"
     ]
    }
   ],
   "source": [
    "img = io.imread('./test/label/1.png')\n",
    "img = img.astype(np.double)\n",
    "img2 = trans.resize(img,[256,256])\n",
    "img = io.imread('./test/results/1_predict.png')\n",
    "img=img.astype(np.double)\n",
    "mean2=dice_coef(img2/255, img/255)\n",
    "print(\"Mean Dice Coeff : \",mean2)"
   ]
  },
  {
   "cell_type": "code",
   "execution_count": 38,
   "metadata": {},
   "outputs": [
    {
     "name": "stdout",
     "output_type": "stream",
     "text": [
      "Mean Dice Coeff :  tf.Tensor(0.8238485005829229, shape=(), dtype=float64)\n"
     ]
    }
   ],
   "source": [
    "img = io.imread('./test/label/2.png')\n",
    "img = img.astype(np.double)\n",
    "img3 = trans.resize(img,[256,256])\n",
    "img = io.imread('./test/results/2_predict.png')\n",
    "img = img.astype(np.double)\n",
    "mean3 = dice_coef(img3/255, img/255)\n",
    "print(\"Mean Dice Coeff : \",mean3)"
   ]
  },
  {
   "cell_type": "code",
   "execution_count": 39,
   "metadata": {},
   "outputs": [
    {
     "name": "stdout",
     "output_type": "stream",
     "text": [
      "tf.Tensor(0.8203615098556792, shape=(), dtype=float64)\n"
     ]
    }
   ],
   "source": [
    "mean_average=(mean1+mean2+mean3)/3\n",
    "print(mean_average)"
   ]
  }
 ],
 "metadata": {
  "kernelspec": {
   "display_name": "Python 3",
   "language": "python",
   "name": "python3"
  },
  "language_info": {
   "codemirror_mode": {
    "name": "ipython",
    "version": 3
   },
   "file_extension": ".py",
   "mimetype": "text/x-python",
   "name": "python",
   "nbconvert_exporter": "python",
   "pygments_lexer": "ipython3",
   "version": "3.7.6"
  }
 },
 "nbformat": 4,
 "nbformat_minor": 4
}
